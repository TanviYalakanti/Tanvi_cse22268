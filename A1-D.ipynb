{
 "cells": [
  {
   "cell_type": "code",
   "execution_count": 3,
   "id": "66cc04bc",
   "metadata": {},
   "outputs": [
    {
     "name": "stdout",
     "output_type": "stream",
     "text": [
      "Product costs: [ 1. 55. 18.]\n"
     ]
    }
   ],
   "source": [
    "import pandas as pd\n",
    "import numpy as np\n",
    "\n",
    "# Load the data\n",
    "file_path = r\"C:\\Users\\year3\\Downloads\\Lab Session Data (2).xlsx\"\n",
    "df = pd.read_excel(file_path, sheet_name='Purchase data')\n",
    "\n",
    "# Clean the data\n",
    "df_cleaned = df[['Candies (#)', 'Mangoes (Kg)', 'Milk Packets (#)', 'Payment (Rs)']].dropna()\n",
    "\n",
    "# Extract features and target variable\n",
    "A = df_cleaned.iloc[:, :-1].values  # Product quantities\n",
    "C = df_cleaned.iloc[:, -1].values   # Payment\n",
    "\n",
    "# Ensure A and C are numeric numpy arrays\n",
    "A = A.astype(np.float64)\n",
    "C = C.astype(np.float64)\n",
    "\n",
    "# Compute the pseudo-inverse of A\n",
    "A_pseudo_inverse = np.linalg.pinv(A)\n",
    "\n",
    "# Calculate the model vector X (product costs)\n",
    "product_costs = np.dot(A_pseudo_inverse, C)\n",
    "\n",
    "# Display the product costs\n",
    "print(\"Product costs:\", product_costs)"
   ]
  },
  {
   "cell_type": "code",
   "execution_count": null,
   "id": "2b531012",
   "metadata": {},
   "outputs": [],
   "source": []
  }
 ],
 "metadata": {
  "kernelspec": {
   "display_name": "Python 3 (ipykernel)",
   "language": "python",
   "name": "python3"
  },
  "language_info": {
   "codemirror_mode": {
    "name": "ipython",
    "version": 3
   },
   "file_extension": ".py",
   "mimetype": "text/x-python",
   "name": "python",
   "nbconvert_exporter": "python",
   "pygments_lexer": "ipython3",
   "version": "3.11.4"
  }
 },
 "nbformat": 4,
 "nbformat_minor": 5
}
